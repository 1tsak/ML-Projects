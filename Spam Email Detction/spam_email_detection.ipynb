{
 "cells": [
  {
   "cell_type": "markdown",
   "metadata": {},
   "source": [
    "Importing the required dependencies"
   ]
  },
  {
   "cell_type": "code",
   "execution_count": 64,
   "metadata": {},
   "outputs": [],
   "source": [
    "import numpy as np\n",
    "import pandas as pd\n",
    "import matplotlib.pyplot as plt\n",
    "from sklearn.model_selection import train_test_split\n",
    "from sklearn.feature_extraction.text import TfidfVectorizer\n",
    "from sklearn.linear_model import LogisticRegression\n",
    "from sklearn.metrics import accuracy_score"
   ]
  },
  {
   "cell_type": "markdown",
   "metadata": {},
   "source": [
    "Data Collection & Pre-Processing"
   ]
  },
  {
   "cell_type": "code",
   "execution_count": 65,
   "metadata": {},
   "outputs": [],
   "source": [
    "# loadding data fro csv\n",
    "mail_data = pd.read_csv('./mail_data.csv')\n",
    "# print(mail_data)"
   ]
  },
  {
   "cell_type": "code",
   "execution_count": 66,
   "metadata": {},
   "outputs": [],
   "source": [
    "# replacing null value with empty string\n",
    "mail_data = mail_data.where(pd.notnull(mail_data),'')"
   ]
  },
  {
   "cell_type": "code",
   "execution_count": 67,
   "metadata": {},
   "outputs": [
    {
     "data": {
      "text/html": [
       "<div>\n",
       "<style scoped>\n",
       "    .dataframe tbody tr th:only-of-type {\n",
       "        vertical-align: middle;\n",
       "    }\n",
       "\n",
       "    .dataframe tbody tr th {\n",
       "        vertical-align: top;\n",
       "    }\n",
       "\n",
       "    .dataframe thead th {\n",
       "        text-align: right;\n",
       "    }\n",
       "</style>\n",
       "<table border=\"1\" class=\"dataframe\">\n",
       "  <thead>\n",
       "    <tr style=\"text-align: right;\">\n",
       "      <th></th>\n",
       "      <th>Category</th>\n",
       "      <th>Message</th>\n",
       "    </tr>\n",
       "  </thead>\n",
       "  <tbody>\n",
       "    <tr>\n",
       "      <th>0</th>\n",
       "      <td>ham</td>\n",
       "      <td>Go until jurong point, crazy.. Available only ...</td>\n",
       "    </tr>\n",
       "    <tr>\n",
       "      <th>1</th>\n",
       "      <td>ham</td>\n",
       "      <td>Ok lar... Joking wif u oni...</td>\n",
       "    </tr>\n",
       "    <tr>\n",
       "      <th>2</th>\n",
       "      <td>spam</td>\n",
       "      <td>Free entry in 2 a wkly comp to win FA Cup fina...</td>\n",
       "    </tr>\n",
       "    <tr>\n",
       "      <th>3</th>\n",
       "      <td>ham</td>\n",
       "      <td>U dun say so early hor... U c already then say...</td>\n",
       "    </tr>\n",
       "    <tr>\n",
       "      <th>4</th>\n",
       "      <td>ham</td>\n",
       "      <td>Nah I don't think he goes to usf, he lives aro...</td>\n",
       "    </tr>\n",
       "  </tbody>\n",
       "</table>\n",
       "</div>"
      ],
      "text/plain": [
       "  Category                                            Message\n",
       "0      ham  Go until jurong point, crazy.. Available only ...\n",
       "1      ham                      Ok lar... Joking wif u oni...\n",
       "2     spam  Free entry in 2 a wkly comp to win FA Cup fina...\n",
       "3      ham  U dun say so early hor... U c already then say...\n",
       "4      ham  Nah I don't think he goes to usf, he lives aro..."
      ]
     },
     "execution_count": 67,
     "metadata": {},
     "output_type": "execute_result"
    }
   ],
   "source": [
    "# printing first few rows of data\n",
    "mail_data.head()"
   ]
  },
  {
   "cell_type": "code",
   "execution_count": 68,
   "metadata": {},
   "outputs": [
    {
     "data": {
      "text/plain": [
       "(5572, 2)"
      ]
     },
     "execution_count": 68,
     "metadata": {},
     "output_type": "execute_result"
    }
   ],
   "source": [
    "# shape of data\n",
    "mail_data.shape"
   ]
  },
  {
   "cell_type": "markdown",
   "metadata": {},
   "source": [
    "### Label Encoding\n",
    "#### Spam =1 Ham = 0"
   ]
  },
  {
   "cell_type": "code",
   "execution_count": 69,
   "metadata": {},
   "outputs": [],
   "source": [
    "#spam mail as 1 and ham mail as 0\n",
    "mail_data.loc[mail_data['Category']=='spam','Category',] = 1\n",
    "mail_data.loc[mail_data['Category']=='ham','Category',] = 0"
   ]
  },
  {
   "cell_type": "code",
   "execution_count": 70,
   "metadata": {},
   "outputs": [],
   "source": [
    "# seprating text and labels\n",
    "\n",
    "X = mail_data['Message']\n",
    "Y = mail_data['Category']"
   ]
  },
  {
   "cell_type": "code",
   "execution_count": 71,
   "metadata": {},
   "outputs": [
    {
     "name": "stdout",
     "output_type": "stream",
     "text": [
      "0       Go until jurong point, crazy.. Available only ...\n",
      "1                           Ok lar... Joking wif u oni...\n",
      "2       Free entry in 2 a wkly comp to win FA Cup fina...\n",
      "3       U dun say so early hor... U c already then say...\n",
      "4       Nah I don't think he goes to usf, he lives aro...\n",
      "                              ...                        \n",
      "5567    This is the 2nd time we have tried 2 contact u...\n",
      "5568                 Will ü b going to esplanade fr home?\n",
      "5569    Pity, * was in mood for that. So...any other s...\n",
      "5570    The guy did some bitching but I acted like i'd...\n",
      "5571                           Rofl. Its true to its name\n",
      "Name: Message, Length: 5572, dtype: object\n",
      "0       0\n",
      "1       0\n",
      "2       1\n",
      "3       0\n",
      "4       0\n",
      "       ..\n",
      "5567    1\n",
      "5568    0\n",
      "5569    0\n",
      "5570    0\n",
      "5571    0\n",
      "Name: Category, Length: 5572, dtype: object\n"
     ]
    }
   ],
   "source": [
    "print(X)\n",
    "print(Y)"
   ]
  },
  {
   "cell_type": "markdown",
   "metadata": {},
   "source": [
    "Prepairing Test & Train Data"
   ]
  },
  {
   "cell_type": "code",
   "execution_count": 72,
   "metadata": {},
   "outputs": [],
   "source": [
    "# splliting data\n",
    "X_train, X_test, Y_train, Y_test = train_test_split(X, Y, test_size=0.2, random_state=42)"
   ]
  },
  {
   "cell_type": "code",
   "execution_count": 73,
   "metadata": {},
   "outputs": [
    {
     "name": "stdout",
     "output_type": "stream",
     "text": [
      "(4457,)\n",
      "(1115,)\n",
      "(4457,)\n",
      "(1115,)\n"
     ]
    }
   ],
   "source": [
    "# data shape\n",
    "print(X_train.shape)\n",
    "print(X_test.shape)\n",
    "print(Y_train.shape)\n",
    "print(Y_test.shape)"
   ]
  },
  {
   "cell_type": "markdown",
   "metadata": {},
   "source": [
    "Feature Extraction"
   ]
  },
  {
   "cell_type": "code",
   "execution_count": 74,
   "metadata": {},
   "outputs": [],
   "source": [
    "# converting text data to feature vectors\n",
    "\n",
    "extract_features = TfidfVectorizer(min_df=1, stop_words='english',lowercase='True')\n",
    "X_train_features = extract_features.fit_transform(X_train)\n",
    "X_test_features = extract_features.transform(X_test)\n",
    "\n",
    "# converting Y_train and Y_test values as integers\n",
    "Y_train = Y_train.astype('int')\n",
    "Y_test = Y_test.astype('int')"
   ]
  },
  {
   "cell_type": "code",
   "execution_count": 75,
   "metadata": {},
   "outputs": [
    {
     "name": "stdout",
     "output_type": "stream",
     "text": [
      "  (0, 5818)\t0.22682143517864364\n",
      "  (0, 2497)\t0.2442158912653505\n",
      "  (0, 694)\t0.3171299579602537\n",
      "  (0, 6264)\t0.1898892037332199\n",
      "  (0, 5800)\t0.17558937755823417\n",
      "  (0, 3262)\t0.33791755486732394\n",
      "  (0, 2049)\t0.3034375179183143\n",
      "  (0, 7300)\t0.24288153842988894\n",
      "  (0, 2724)\t0.3544175987866074\n",
      "  (0, 354)\t0.3544175987866074\n",
      "  (0, 7162)\t0.2550284465664535\n",
      "  (0, 258)\t0.2379428657041507\n",
      "  (0, 7222)\t0.2173884735352799\n",
      "  (0, 5512)\t0.1898892037332199\n",
      "  (1, 2555)\t0.3840709491751004\n",
      "  (1, 3804)\t0.1902902346515268\n",
      "  (1, 3932)\t0.24325511357721427\n",
      "  (1, 4509)\t0.4028245991060671\n",
      "  (1, 2440)\t0.33870544648398715\n",
      "  (1, 3333)\t0.20665394084233096\n",
      "  (1, 5650)\t0.360444144470318\n",
      "  (1, 2335)\t0.2162321275166079\n",
      "  (1, 6738)\t0.28986069568918\n",
      "  (1, 6109)\t0.3239762634465801\n",
      "  (1, 3267)\t0.2678713077029217\n",
      "  :\t:\n",
      "  (4452, 2438)\t0.4574160733416501\n",
      "  (4452, 7280)\t0.3968991650168732\n",
      "  (4452, 3978)\t0.4574160733416501\n",
      "  (4452, 3290)\t0.26370969643076225\n",
      "  (4452, 3084)\t0.22948428918295163\n",
      "  (4452, 2236)\t0.2676662072392096\n",
      "  (4453, 3874)\t0.6064947019588056\n",
      "  (4453, 4004)\t0.5244851817485773\n",
      "  (4453, 6108)\t0.5975612693457145\n",
      "  (4454, 6113)\t0.4465347909835087\n",
      "  (4454, 6114)\t0.4465347909835087\n",
      "  (4454, 5149)\t0.43410473161397095\n",
      "  (4454, 5409)\t0.4079234999314281\n",
      "  (4454, 3249)\t0.3182708584577292\n",
      "  (4454, 2893)\t0.38087861810984514\n",
      "  (4455, 5815)\t0.5332274226200294\n",
      "  (4455, 3691)\t0.5541750775894743\n",
      "  (4455, 4660)\t0.4924788339394118\n",
      "  (4455, 6686)\t0.40745931976870786\n",
      "  (4456, 4518)\t0.5364209818026567\n",
      "  (4456, 6078)\t0.46545159250664164\n",
      "  (4456, 6467)\t0.48168628392630153\n",
      "  (4456, 5719)\t0.3276287995831882\n",
      "  (4456, 2236)\t0.31389751705425334\n",
      "  (4456, 3720)\t0.24023610815826446\n"
     ]
    }
   ],
   "source": [
    "print(X_train_features)"
   ]
  },
  {
   "cell_type": "markdown",
   "metadata": {},
   "source": [
    "Model Training"
   ]
  },
  {
   "cell_type": "code",
   "execution_count": 76,
   "metadata": {},
   "outputs": [
    {
     "data": {
      "text/html": [
       "<style>#sk-container-id-4 {color: black;background-color: white;}#sk-container-id-4 pre{padding: 0;}#sk-container-id-4 div.sk-toggleable {background-color: white;}#sk-container-id-4 label.sk-toggleable__label {cursor: pointer;display: block;width: 100%;margin-bottom: 0;padding: 0.3em;box-sizing: border-box;text-align: center;}#sk-container-id-4 label.sk-toggleable__label-arrow:before {content: \"▸\";float: left;margin-right: 0.25em;color: #696969;}#sk-container-id-4 label.sk-toggleable__label-arrow:hover:before {color: black;}#sk-container-id-4 div.sk-estimator:hover label.sk-toggleable__label-arrow:before {color: black;}#sk-container-id-4 div.sk-toggleable__content {max-height: 0;max-width: 0;overflow: hidden;text-align: left;background-color: #f0f8ff;}#sk-container-id-4 div.sk-toggleable__content pre {margin: 0.2em;color: black;border-radius: 0.25em;background-color: #f0f8ff;}#sk-container-id-4 input.sk-toggleable__control:checked~div.sk-toggleable__content {max-height: 200px;max-width: 100%;overflow: auto;}#sk-container-id-4 input.sk-toggleable__control:checked~label.sk-toggleable__label-arrow:before {content: \"▾\";}#sk-container-id-4 div.sk-estimator input.sk-toggleable__control:checked~label.sk-toggleable__label {background-color: #d4ebff;}#sk-container-id-4 div.sk-label input.sk-toggleable__control:checked~label.sk-toggleable__label {background-color: #d4ebff;}#sk-container-id-4 input.sk-hidden--visually {border: 0;clip: rect(1px 1px 1px 1px);clip: rect(1px, 1px, 1px, 1px);height: 1px;margin: -1px;overflow: hidden;padding: 0;position: absolute;width: 1px;}#sk-container-id-4 div.sk-estimator {font-family: monospace;background-color: #f0f8ff;border: 1px dotted black;border-radius: 0.25em;box-sizing: border-box;margin-bottom: 0.5em;}#sk-container-id-4 div.sk-estimator:hover {background-color: #d4ebff;}#sk-container-id-4 div.sk-parallel-item::after {content: \"\";width: 100%;border-bottom: 1px solid gray;flex-grow: 1;}#sk-container-id-4 div.sk-label:hover label.sk-toggleable__label {background-color: #d4ebff;}#sk-container-id-4 div.sk-serial::before {content: \"\";position: absolute;border-left: 1px solid gray;box-sizing: border-box;top: 0;bottom: 0;left: 50%;z-index: 0;}#sk-container-id-4 div.sk-serial {display: flex;flex-direction: column;align-items: center;background-color: white;padding-right: 0.2em;padding-left: 0.2em;position: relative;}#sk-container-id-4 div.sk-item {position: relative;z-index: 1;}#sk-container-id-4 div.sk-parallel {display: flex;align-items: stretch;justify-content: center;background-color: white;position: relative;}#sk-container-id-4 div.sk-item::before, #sk-container-id-4 div.sk-parallel-item::before {content: \"\";position: absolute;border-left: 1px solid gray;box-sizing: border-box;top: 0;bottom: 0;left: 50%;z-index: -1;}#sk-container-id-4 div.sk-parallel-item {display: flex;flex-direction: column;z-index: 1;position: relative;background-color: white;}#sk-container-id-4 div.sk-parallel-item:first-child::after {align-self: flex-end;width: 50%;}#sk-container-id-4 div.sk-parallel-item:last-child::after {align-self: flex-start;width: 50%;}#sk-container-id-4 div.sk-parallel-item:only-child::after {width: 0;}#sk-container-id-4 div.sk-dashed-wrapped {border: 1px dashed gray;margin: 0 0.4em 0.5em 0.4em;box-sizing: border-box;padding-bottom: 0.4em;background-color: white;}#sk-container-id-4 div.sk-label label {font-family: monospace;font-weight: bold;display: inline-block;line-height: 1.2em;}#sk-container-id-4 div.sk-label-container {text-align: center;}#sk-container-id-4 div.sk-container {/* jupyter's `normalize.less` sets `[hidden] { display: none; }` but bootstrap.min.css set `[hidden] { display: none !important; }` so we also need the `!important` here to be able to override the default hidden behavior on the sphinx rendered scikit-learn.org. See: https://github.com/scikit-learn/scikit-learn/issues/21755 */display: inline-block !important;position: relative;}#sk-container-id-4 div.sk-text-repr-fallback {display: none;}</style><div id=\"sk-container-id-4\" class=\"sk-top-container\"><div class=\"sk-text-repr-fallback\"><pre>LogisticRegression()</pre><b>In a Jupyter environment, please rerun this cell to show the HTML representation or trust the notebook. <br />On GitHub, the HTML representation is unable to render, please try loading this page with nbviewer.org.</b></div><div class=\"sk-container\" hidden><div class=\"sk-item\"><div class=\"sk-estimator sk-toggleable\"><input class=\"sk-toggleable__control sk-hidden--visually\" id=\"sk-estimator-id-4\" type=\"checkbox\" checked><label for=\"sk-estimator-id-4\" class=\"sk-toggleable__label sk-toggleable__label-arrow\">LogisticRegression</label><div class=\"sk-toggleable__content\"><pre>LogisticRegression()</pre></div></div></div></div></div>"
      ],
      "text/plain": [
       "LogisticRegression()"
      ]
     },
     "execution_count": 76,
     "metadata": {},
     "output_type": "execute_result"
    }
   ],
   "source": [
    "# training logistic regression model\n",
    "model = LogisticRegression()\n",
    "model.fit(X_train_features, Y_train)\n"
   ]
  },
  {
   "cell_type": "markdown",
   "metadata": {},
   "source": [
    "Model Evaluation"
   ]
  },
  {
   "cell_type": "code",
   "execution_count": 77,
   "metadata": {},
   "outputs": [
    {
     "name": "stdout",
     "output_type": "stream",
     "text": [
      "Accuracy on training data:  0.9661207089970832\n"
     ]
    }
   ],
   "source": [
    "# predicting on test data\n",
    "training_data_prediction = model.predict(X_train_features)\n",
    "training_data_accuracy = accuracy_score(Y_train, training_data_prediction)\n",
    "\n",
    "print('Accuracy on training data: ', training_data_accuracy)"
   ]
  },
  {
   "cell_type": "code",
   "execution_count": 78,
   "metadata": {},
   "outputs": [
    {
     "name": "stdout",
     "output_type": "stream",
     "text": [
      "Accuracy on test data:  0.967713004484305\n"
     ]
    }
   ],
   "source": [
    "# predicting on train data\n",
    "test_data_prediction = model.predict(X_test_features)\n",
    "test_data_accuracy = accuracy_score(Y_test, test_data_prediction)\n",
    "\n",
    "print('Accuracy on test data: ', test_data_accuracy)"
   ]
  },
  {
   "cell_type": "markdown",
   "metadata": {},
   "source": [
    "Prediction for Fresh email"
   ]
  },
  {
   "cell_type": "code",
   "execution_count": 80,
   "metadata": {},
   "outputs": [
    {
     "name": "stdout",
     "output_type": "stream",
     "text": [
      "Spam mail\n"
     ]
    }
   ],
   "source": [
    "# predicting for new mail\n",
    "mail = [\"sports fans - get the latest sports news str* 2 ur mobile 1 wk FREE PLUS a FREE TONE Txt SPORT ON to 8007 www.getzed.co.uk 0870141701216+ norm 4txt/120p\"]\n",
    "#convert text to feature vectors\n",
    "mail_features = extract_features.transform(mail)\n",
    "\n",
    "# make prediction\n",
    "prediction = model.predict(mail_features)\n",
    "if(prediction[0]==1):\n",
    "    print('Spam mail')\n",
    "else:\n",
    "    print('Ham mail')"
   ]
  },
  {
   "cell_type": "markdown",
   "metadata": {},
   "source": [
    "Onnx Model Conversion"
   ]
  },
  {
   "cell_type": "code",
   "execution_count": 82,
   "metadata": {},
   "outputs": [],
   "source": [
    "from skl2onnx import convert_sklearn\n",
    "from skl2onnx.common.data_types import FloatTensorType\n",
    "\n",
    "\n",
    "# Specify an initial type for the model ( similar to input shape for the model )\n",
    "initial_type = [ \n",
    "    ( 'input_mail' , FloatTensorType( [None,1] ) ) \n",
    "]\n",
    "\n",
    "# Write the ONNX model to disk\n",
    "converted_model = convert_sklearn( model , initial_types=initial_type )\n",
    "with open( \"sklearn_model.onnx\", \"wb\" ) as f:\n",
    "    f.write( converted_model.SerializeToString() )"
   ]
  },
  {
   "cell_type": "code",
   "execution_count": 84,
   "metadata": {},
   "outputs": [
    {
     "name": "stdout",
     "output_type": "stream",
     "text": [
      "Converting models with optimization style 'Fixed' and level 'all'\n",
      "Converting optimized ONNX model /media/a2v10/New Volume/Workspace/Ai/Spam Email Detction/sklearn_model.onnx to ORT format model /media/a2v10/New Volume/Workspace/Ai/Spam Email Detction/sklearn_model.ort\n",
      "Converted 1/1 models successfully.\n",
      "Generating config file from ORT format models with optimization style 'Fixed' and level 'all'\n",
      "2022-09-22 22:20:28,198 ort_format_model.utils [INFO] - Created config in /media/a2v10/New Volume/Workspace/Ai/Spam Email Detction/sklearn_model.required_operators.config\n",
      "Converting models with optimization style 'Runtime' and level 'all'\n",
      "Converting optimized ONNX model /media/a2v10/New Volume/Workspace/Ai/Spam Email Detction/sklearn_model.onnx to ORT format model /media/a2v10/New Volume/Workspace/Ai/Spam Email Detction/sklearn_model.with_runtime_opt.ort\n",
      "Converted 1/1 models successfully.\n",
      "Converting models again without runtime optimizations to generate a complete config file. These converted models are temporary and will be deleted.\n",
      "Converting optimized ONNX model /media/a2v10/New Volume/Workspace/Ai/Spam Email Detction/sklearn_model.onnx to ORT format model /media/a2v10/New Volume/Workspace/Ai/Spam Email Detction/tmpsv2hybmq.without_runtime_opt/sklearn_model.ort\n",
      "Converted 1/1 models successfully.\n",
      "Generating config file from ORT format models with optimization style 'Runtime' and level 'all'\n",
      "2022-09-22 22:20:28,206 ort_format_model.utils [INFO] - Created config in /media/a2v10/New Volume/Workspace/Ai/Spam Email Detction/sklearn_model.required_operators.with_runtime_opt.config\n"
     ]
    }
   ],
   "source": [
    "!python3 -m onnxruntime.tools.convert_onnx_models_to_ort sklearn_model.onnx"
   ]
  }
 ],
 "metadata": {
  "kernelspec": {
   "display_name": "Python 3.10.4 64-bit",
   "language": "python",
   "name": "python3"
  },
  "language_info": {
   "codemirror_mode": {
    "name": "ipython",
    "version": 3
   },
   "file_extension": ".py",
   "mimetype": "text/x-python",
   "name": "python",
   "nbconvert_exporter": "python",
   "pygments_lexer": "ipython3",
   "version": "3.10.4"
  },
  "orig_nbformat": 4,
  "vscode": {
   "interpreter": {
    "hash": "916dbcbb3f70747c44a77c7bcd40155683ae19c65e1c03b4aa3499c5328201f1"
   }
  }
 },
 "nbformat": 4,
 "nbformat_minor": 2
}
